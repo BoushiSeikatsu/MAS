{
 "cells": [
  {
   "cell_type": "code",
   "execution_count": 3,
   "id": "7a27dc0f-ef29-4e0b-9795-d53029e8b4cf",
   "metadata": {
    "tags": []
   },
   "outputs": [],
   "source": [
    "import pandas as pd\n",
    "import seaborn as sns"
   ]
  },
  {
   "cell_type": "code",
   "execution_count": 4,
   "id": "d1378d4a-f227-41f5-839a-131b2e8b63fb",
   "metadata": {
    "tags": []
   },
   "outputs": [],
   "source": [
    "df = pd.read_csv(\"C:\\\\Users\\\\Michal\\\\Documents\\\\PythonScripts\\\\MAS\\\\KarateClub.csv\", sep=';')"
   ]
  },
  {
   "cell_type": "code",
   "execution_count": 5,
   "id": "ed6ff98a-6c72-4c69-be12-8a015d36cc85",
   "metadata": {
    "tags": []
   },
   "outputs": [],
   "source": [
    "def getAdjacencyMatrix(df):\n",
    "    adjacencyMatrix = []\n",
    "    for i in range(0,34):\n",
    "        adjacencyMatrix.append([])\n",
    "        for j in range(0,34):\n",
    "            adjacencyMatrix[i].append(0)\n",
    "    for i in range(0,len(adjacencyMatrix)):\n",
    "        for j in range(0, len(adjacencyMatrix[i])):\n",
    "            for n in df.iterrows():\n",
    "                if n[1][0] == i + 1 or n[1][1] == i + 1:\n",
    "                    if n[1][0] == j + 1 or n[1][1] == j + 1:\n",
    "                        adjacencyMatrix[i][j] = 1\n",
    "    return adjacencyMatrix\n",
    "\n",
    "def getAdjacencyList(adjacencyMatrix):\n",
    "    adjacencyList = {}\n",
    "    for i in range(0,len(adjacencyMatrix)):\n",
    "        adjacencyList[i + 1] = []\n",
    "        for j in range(0, len(adjacencyMatrix[i])):\n",
    "            if adjacencyMatrix[i][j] == 1 and i != j:\n",
    "                adjacencyList[i + 1].append(j + 1)\n",
    "    return adjacencyList"
   ]
  },
  {
   "cell_type": "code",
   "execution_count": 6,
   "id": "0ff7838c-cea5-45ab-84c1-fd90240baa1f",
   "metadata": {
    "tags": []
   },
   "outputs": [],
   "source": [
    "adjacencyMatrix = getAdjacencyMatrix(df)\n"
   ]
  },
  {
   "cell_type": "code",
   "execution_count": 7,
   "id": "db87c5e0-ae58-4664-9f96-a7c99da16b2b",
   "metadata": {
    "tags": []
   },
   "outputs": [],
   "source": [
    "adjacencyList = getAdjacencyList(adjacencyMatrix)"
   ]
  },
  {
   "cell_type": "code",
   "execution_count": 8,
   "id": "03a644ad-f959-451a-807c-672cf7b2cb50",
   "metadata": {
    "tags": []
   },
   "outputs": [
    {
     "data": {
      "text/plain": [
       "{1: [2, 3, 4, 5, 6, 7, 8, 9, 11, 12, 13, 14, 18, 20, 22, 32],\n",
       " 2: [1, 3, 4, 8, 14, 18, 20, 22, 31],\n",
       " 3: [1, 2, 4, 8, 9, 10, 14, 28, 29, 33],\n",
       " 4: [1, 2, 3, 8, 13, 14],\n",
       " 5: [1, 7, 11],\n",
       " 6: [1, 7, 11, 17],\n",
       " 7: [1, 5, 6, 17],\n",
       " 8: [1, 2, 3, 4],\n",
       " 9: [1, 3, 31, 33, 34],\n",
       " 10: [3, 34],\n",
       " 11: [1, 5, 6],\n",
       " 12: [1],\n",
       " 13: [1, 4],\n",
       " 14: [1, 2, 3, 4, 34],\n",
       " 15: [33, 34],\n",
       " 16: [33, 34],\n",
       " 17: [6, 7],\n",
       " 18: [1, 2],\n",
       " 19: [33, 34],\n",
       " 20: [1, 2, 34],\n",
       " 21: [33, 34],\n",
       " 22: [1, 2],\n",
       " 23: [33, 34],\n",
       " 24: [26, 28, 30, 33, 34],\n",
       " 25: [26, 28, 32],\n",
       " 26: [24, 25, 32],\n",
       " 27: [30, 34],\n",
       " 28: [3, 24, 25, 34],\n",
       " 29: [3, 32, 34],\n",
       " 30: [24, 27, 33, 34],\n",
       " 31: [2, 9, 33, 34],\n",
       " 32: [1, 25, 26, 29, 33, 34],\n",
       " 33: [3, 9, 15, 16, 19, 21, 23, 24, 30, 31, 32, 34],\n",
       " 34: [9, 10, 14, 15, 16, 19, 20, 21, 23, 24, 27, 28, 29, 30, 31, 32, 33]}"
      ]
     },
     "execution_count": 8,
     "metadata": {},
     "output_type": "execute_result"
    }
   ],
   "source": [
    "adjacencyList"
   ]
  },
  {
   "cell_type": "code",
   "execution_count": 13,
   "id": "d0d8bd87-a2a5-46fd-8ab1-d51ff4667a3d",
   "metadata": {
    "tags": []
   },
   "outputs": [],
   "source": [
    "def floydWarshall(adjacencyList):\n",
    "    inf = 40000\n",
    "    vertices = len(adjacencyList.keys())\n",
    "    matrix = []\n",
    "    for i in range(1,vertices + 1):\n",
    "        matrix.append([])\n",
    "        for j in range(1,vertices + 1):\n",
    "            if i == j:\n",
    "                matrix[i - 1].append(0)\n",
    "            elif j in adjacencyList[i]:\n",
    "                matrix[i - 1].append(1)\n",
    "            else:\n",
    "                matrix[i - 1].append(inf)\n",
    "    for k in range(0,vertices):\n",
    "        for i in range(0,vertices):\n",
    "            for j in range(0,vertices):\n",
    "                if matrix[i][j] > matrix[i][k] + matrix[k][j]:\n",
    "                    matrix[i][j] = matrix[i][k] + matrix[k][j]\n",
    "    return matrix"
   ]
  },
  {
   "cell_type": "code",
   "execution_count": 17,
   "id": "d8eb6569-c90b-4570-ae0c-c7fe34eccf8e",
   "metadata": {
    "tags": []
   },
   "outputs": [],
   "source": [
    "def printMatrix(adjacencyMatrix):\n",
    "    for i in range(0,len(adjacencyMatrix)):\n",
    "        print(adjacencyMatrix[i])"
   ]
  },
  {
   "cell_type": "code",
   "execution_count": 14,
   "id": "ae092b7f-2dad-4b1d-b6bd-ca0125514144",
   "metadata": {
    "tags": []
   },
   "outputs": [],
   "source": [
    "closestDistanceMatrix = floydWarshall(adjacencyList)"
   ]
  },
  {
   "cell_type": "code",
   "execution_count": 18,
   "id": "69b2e519-1efe-4dd9-8ca6-24e593f62bd4",
   "metadata": {
    "tags": []
   },
   "outputs": [
    {
     "name": "stdout",
     "output_type": "stream",
     "text": [
      "[0, 1, 1, 1, 1, 1, 1, 1, 1, 2, 1, 1, 1, 1, 3, 3, 2, 1, 3, 1, 3, 1, 3, 3, 2, 2, 3, 2, 2, 3, 2, 1, 2, 2]\n",
      "[1, 0, 1, 1, 2, 2, 2, 1, 2, 2, 2, 2, 2, 1, 3, 3, 3, 1, 3, 1, 3, 1, 3, 3, 3, 3, 3, 2, 2, 3, 1, 2, 2, 2]\n",
      "[1, 1, 0, 1, 2, 2, 2, 1, 1, 1, 2, 2, 2, 1, 2, 2, 3, 2, 2, 2, 2, 2, 2, 2, 2, 3, 3, 1, 1, 2, 2, 2, 1, 2]\n",
      "[1, 1, 1, 0, 2, 2, 2, 1, 2, 2, 2, 2, 1, 1, 3, 3, 3, 2, 3, 2, 3, 2, 3, 3, 3, 3, 3, 2, 2, 3, 2, 2, 2, 2]\n",
      "[1, 2, 2, 2, 0, 2, 1, 2, 2, 3, 1, 2, 2, 2, 4, 4, 2, 2, 4, 2, 4, 2, 4, 4, 3, 3, 4, 3, 3, 4, 3, 2, 3, 3]\n",
      "[1, 2, 2, 2, 2, 0, 1, 2, 2, 3, 1, 2, 2, 2, 4, 4, 1, 2, 4, 2, 4, 2, 4, 4, 3, 3, 4, 3, 3, 4, 3, 2, 3, 3]\n",
      "[1, 2, 2, 2, 1, 1, 0, 2, 2, 3, 2, 2, 2, 2, 4, 4, 1, 2, 4, 2, 4, 2, 4, 4, 3, 3, 4, 3, 3, 4, 3, 2, 3, 3]\n",
      "[1, 1, 1, 1, 2, 2, 2, 0, 2, 2, 2, 2, 2, 2, 3, 3, 3, 2, 3, 2, 3, 2, 3, 3, 3, 3, 4, 2, 2, 3, 2, 2, 2, 3]\n",
      "[1, 2, 1, 2, 2, 2, 2, 2, 0, 2, 2, 2, 2, 2, 2, 2, 3, 2, 2, 2, 2, 2, 2, 2, 3, 3, 2, 2, 2, 2, 1, 2, 1, 1]\n",
      "[2, 2, 1, 2, 3, 3, 3, 2, 2, 0, 3, 3, 3, 2, 2, 2, 4, 3, 2, 2, 2, 3, 2, 2, 3, 3, 2, 2, 2, 2, 2, 2, 2, 1]\n",
      "[1, 2, 2, 2, 1, 1, 2, 2, 2, 3, 0, 2, 2, 2, 4, 4, 2, 2, 4, 2, 4, 2, 4, 4, 3, 3, 4, 3, 3, 4, 3, 2, 3, 3]\n",
      "[1, 2, 2, 2, 2, 2, 2, 2, 2, 3, 2, 0, 2, 2, 4, 4, 3, 2, 4, 2, 4, 2, 4, 4, 3, 3, 4, 3, 3, 4, 3, 2, 3, 3]\n",
      "[1, 2, 2, 1, 2, 2, 2, 2, 2, 3, 2, 2, 0, 2, 4, 4, 3, 2, 4, 2, 4, 2, 4, 4, 3, 3, 4, 3, 3, 4, 3, 2, 3, 3]\n",
      "[1, 1, 1, 1, 2, 2, 2, 2, 2, 2, 2, 2, 2, 0, 2, 2, 3, 2, 2, 2, 2, 2, 2, 2, 3, 3, 2, 2, 2, 2, 2, 2, 2, 1]\n",
      "[3, 3, 2, 3, 4, 4, 4, 3, 2, 2, 4, 4, 4, 2, 0, 2, 5, 4, 2, 2, 2, 4, 2, 2, 3, 3, 2, 2, 2, 2, 2, 2, 1, 1]\n",
      "[3, 3, 2, 3, 4, 4, 4, 3, 2, 2, 4, 4, 4, 2, 2, 0, 5, 4, 2, 2, 2, 4, 2, 2, 3, 3, 2, 2, 2, 2, 2, 2, 1, 1]\n",
      "[2, 3, 3, 3, 2, 1, 1, 3, 3, 4, 2, 3, 3, 3, 5, 5, 0, 3, 5, 3, 5, 3, 5, 5, 4, 4, 5, 4, 4, 5, 4, 3, 4, 4]\n",
      "[1, 1, 2, 2, 2, 2, 2, 2, 2, 3, 2, 2, 2, 2, 4, 4, 3, 0, 4, 2, 4, 2, 4, 4, 3, 3, 4, 3, 3, 4, 2, 2, 3, 3]\n",
      "[3, 3, 2, 3, 4, 4, 4, 3, 2, 2, 4, 4, 4, 2, 2, 2, 5, 4, 0, 2, 2, 4, 2, 2, 3, 3, 2, 2, 2, 2, 2, 2, 1, 1]\n",
      "[1, 1, 2, 2, 2, 2, 2, 2, 2, 2, 2, 2, 2, 2, 2, 2, 3, 2, 2, 0, 2, 2, 2, 2, 3, 3, 2, 2, 2, 2, 2, 2, 2, 1]\n",
      "[3, 3, 2, 3, 4, 4, 4, 3, 2, 2, 4, 4, 4, 2, 2, 2, 5, 4, 2, 2, 0, 4, 2, 2, 3, 3, 2, 2, 2, 2, 2, 2, 1, 1]\n",
      "[1, 1, 2, 2, 2, 2, 2, 2, 2, 3, 2, 2, 2, 2, 4, 4, 3, 2, 4, 2, 4, 0, 4, 4, 3, 3, 4, 3, 3, 4, 2, 2, 3, 3]\n",
      "[3, 3, 2, 3, 4, 4, 4, 3, 2, 2, 4, 4, 4, 2, 2, 2, 5, 4, 2, 2, 2, 4, 0, 2, 3, 3, 2, 2, 2, 2, 2, 2, 1, 1]\n",
      "[3, 3, 2, 3, 4, 4, 4, 3, 2, 2, 4, 4, 4, 2, 2, 2, 5, 4, 2, 2, 2, 4, 2, 0, 2, 1, 2, 1, 2, 1, 2, 2, 1, 1]\n",
      "[2, 3, 2, 3, 3, 3, 3, 3, 3, 3, 3, 3, 3, 3, 3, 3, 4, 3, 3, 3, 3, 3, 3, 2, 0, 1, 3, 1, 2, 3, 3, 1, 2, 2]\n",
      "[2, 3, 3, 3, 3, 3, 3, 3, 3, 3, 3, 3, 3, 3, 3, 3, 4, 3, 3, 3, 3, 3, 3, 1, 1, 0, 3, 2, 2, 2, 3, 1, 2, 2]\n",
      "[3, 3, 3, 3, 4, 4, 4, 4, 2, 2, 4, 4, 4, 2, 2, 2, 5, 4, 2, 2, 2, 4, 2, 2, 3, 3, 0, 2, 2, 1, 2, 2, 2, 1]\n",
      "[2, 2, 1, 2, 3, 3, 3, 2, 2, 2, 3, 3, 3, 2, 2, 2, 4, 3, 2, 2, 2, 3, 2, 1, 1, 2, 2, 0, 2, 2, 2, 2, 2, 1]\n",
      "[2, 2, 1, 2, 3, 3, 3, 2, 2, 2, 3, 3, 3, 2, 2, 2, 4, 3, 2, 2, 2, 3, 2, 2, 2, 2, 2, 2, 0, 2, 2, 1, 2, 1]\n",
      "[3, 3, 2, 3, 4, 4, 4, 3, 2, 2, 4, 4, 4, 2, 2, 2, 5, 4, 2, 2, 2, 4, 2, 1, 3, 2, 1, 2, 2, 0, 2, 2, 1, 1]\n",
      "[2, 1, 2, 2, 3, 3, 3, 2, 1, 2, 3, 3, 3, 2, 2, 2, 4, 2, 2, 2, 2, 2, 2, 2, 3, 3, 2, 2, 2, 2, 0, 2, 1, 1]\n",
      "[1, 2, 2, 2, 2, 2, 2, 2, 2, 2, 2, 2, 2, 2, 2, 2, 3, 2, 2, 2, 2, 2, 2, 2, 1, 1, 2, 2, 1, 2, 2, 0, 1, 1]\n",
      "[2, 2, 1, 2, 3, 3, 3, 2, 1, 2, 3, 3, 3, 2, 1, 1, 4, 3, 1, 2, 1, 3, 1, 1, 2, 2, 2, 2, 2, 1, 1, 1, 0, 1]\n",
      "[2, 2, 2, 2, 3, 3, 3, 3, 1, 1, 3, 3, 3, 1, 1, 1, 4, 3, 1, 1, 1, 3, 1, 1, 2, 2, 1, 1, 1, 1, 1, 1, 1, 0]\n"
     ]
    }
   ],
   "source": [
    "printMatrix(closestDistanceMatrix)"
   ]
  },
  {
   "cell_type": "code",
   "execution_count": 21,
   "id": "d1e36383-15a9-4643-88d1-5f1bd5c42a62",
   "metadata": {
    "tags": []
   },
   "outputs": [],
   "source": [
    "def getDiameter(closestDistanceMatrix):\n",
    "    diameter = -1\n",
    "    for row in closestDistanceMatrix:\n",
    "        for col in row:\n",
    "            if diameter < col:\n",
    "                diameter = col\n",
    "    return diameter\n",
    "\n",
    "def getAverageDistance(closestDistanceMatrix):\n",
    "    sumOfDistances = 0\n",
    "    for i in range(0, len(closestDistanceMatrix)):\n",
    "        for j in range(i+1,len(closestDistanceMatrix)):\n",
    "            sumOfDistances += closestDistanceMatrix[i][j]\n",
    "    vertices = len(closestDistanceMatrix)\n",
    "    result = (2 * sumOfDistances)/(vertices*(vertices-1))\n",
    "    return result"
   ]
  },
  {
   "cell_type": "code",
   "execution_count": 22,
   "id": "63ff6700-609c-420d-8056-a7af0cd0fd74",
   "metadata": {
    "tags": []
   },
   "outputs": [
    {
     "name": "stdout",
     "output_type": "stream",
     "text": [
      "Průměr je 5\n",
      "Průměrná vzdálenost je 2.408199643493761\n"
     ]
    }
   ],
   "source": [
    "diameter = getDiameter(closestDistanceMatrix)\n",
    "averageDistance = getAverageDistance(closestDistanceMatrix)\n",
    "print(f\"Průměr je {diameter}\")\n",
    "print(f\"Průměrná vzdálenost je {averageDistance}\")"
   ]
  },
  {
   "cell_type": "code",
   "execution_count": 26,
   "id": "75f7fb7c-fd18-446e-a8f1-3132001eec1f",
   "metadata": {
    "tags": []
   },
   "outputs": [],
   "source": [
    "def getClosenessCentrality(closestDistanceMatrix):\n",
    "    vertices = len(closestDistanceMatrix)\n",
    "    closeness = {}\n",
    "    for i in range(0,vertices):\n",
    "        closeness[i + 1] = 0\n",
    "        sumOfDistances = 0\n",
    "        for j in range(0,vertices):\n",
    "            sumOfDistances += closestDistanceMatrix[i][j]\n",
    "        closeness[i + 1] = vertices/sumOfDistances\n",
    "    return closeness"
   ]
  },
  {
   "cell_type": "code",
   "execution_count": 27,
   "id": "76f5d49a-8896-414e-8c61-64e403696cf3",
   "metadata": {
    "tags": []
   },
   "outputs": [],
   "source": [
    "closeness = getClosenessCentrality(closestDistanceMatrix)"
   ]
  },
  {
   "cell_type": "code",
   "execution_count": 28,
   "id": "5492f516-bb5b-47b0-ad3d-6152182b42b8",
   "metadata": {
    "tags": []
   },
   "outputs": [
    {
     "data": {
      "text/plain": [
       "{1: 0.5862068965517241,\n",
       " 2: 0.5,\n",
       " 3: 0.576271186440678,\n",
       " 4: 0.4788732394366197,\n",
       " 5: 0.39080459770114945,\n",
       " 6: 0.3953488372093023,\n",
       " 7: 0.3953488372093023,\n",
       " 8: 0.4533333333333333,\n",
       " 9: 0.53125,\n",
       " 10: 0.4473684210526316,\n",
       " 11: 0.39080459770114945,\n",
       " 12: 0.37777777777777777,\n",
       " 13: 0.38202247191011235,\n",
       " 14: 0.53125,\n",
       " 15: 0.38202247191011235,\n",
       " 16: 0.38202247191011235,\n",
       " 17: 0.29310344827586204,\n",
       " 18: 0.38636363636363635,\n",
       " 19: 0.38202247191011235,\n",
       " 20: 0.5151515151515151,\n",
       " 21: 0.38202247191011235,\n",
       " 22: 0.38636363636363635,\n",
       " 23: 0.38202247191011235,\n",
       " 24: 0.40476190476190477,\n",
       " 25: 0.38636363636363635,\n",
       " 26: 0.38636363636363635,\n",
       " 27: 0.37362637362637363,\n",
       " 28: 0.4722222222222222,\n",
       " 29: 0.4657534246575342,\n",
       " 30: 0.3953488372093023,\n",
       " 31: 0.4722222222222222,\n",
       " 32: 0.5573770491803278,\n",
       " 33: 0.53125,\n",
       " 34: 0.5666666666666667}"
      ]
     },
     "execution_count": 28,
     "metadata": {},
     "output_type": "execute_result"
    }
   ],
   "source": [
    "closeness"
   ]
  },
  {
   "cell_type": "code",
   "execution_count": null,
   "id": "55570920-9343-4d14-90c7-2c0e8b6e4d56",
   "metadata": {},
   "outputs": [],
   "source": []
  }
 ],
 "metadata": {
  "kernelspec": {
   "display_name": "Python 3 (ipykernel)",
   "language": "python",
   "name": "python3"
  },
  "language_info": {
   "codemirror_mode": {
    "name": "ipython",
    "version": 3
   },
   "file_extension": ".py",
   "mimetype": "text/x-python",
   "name": "python",
   "nbconvert_exporter": "python",
   "pygments_lexer": "ipython3",
   "version": "3.10.9"
  }
 },
 "nbformat": 4,
 "nbformat_minor": 5
}
