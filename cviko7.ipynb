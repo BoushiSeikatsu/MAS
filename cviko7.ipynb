{
 "cells": [
  {
   "cell_type": "code",
   "execution_count": 1,
   "metadata": {},
   "outputs": [],
   "source": [
    "import pandas as pd\n",
    "import seaborn as sns\n",
    "import networkx as nx\n",
    "import numpy as np\n",
    "import re\n",
    "import matplotlib.pyplot as plt\n",
    "import itertools\n",
    "import sklearn.datasets\n",
    "from sklearn.metrics.pairwise import euclidean_distances\n",
    "import math\n",
    "import random"
   ]
  },
  {
   "cell_type": "code",
   "execution_count": 2,
   "metadata": {},
   "outputs": [],
   "source": [
    "def generateRandomGraph(num_nodes, num_edges):\n",
    "    # Generate a random graph\n",
    "    G = nx.gnm_random_graph(num_nodes, num_edges)\n",
    "\n",
    "    # Ensure all nodes have at least degree 1\n",
    "    for node in G.nodes:\n",
    "        if G.degree[node] == 0:\n",
    "            # Find a random node to connect with\n",
    "            target = random.choice(list(G.nodes))\n",
    "            while target == node or G.has_edge(node, target):\n",
    "                target = random.choice(list(G.nodes))\n",
    "            G.add_edge(node, target)\n",
    "    return G"
   ]
  },
  {
   "cell_type": "code",
   "execution_count": 3,
   "metadata": {},
   "outputs": [],
   "source": [
    "randomG = generateRandomGraph(10,15)"
   ]
  },
  {
   "cell_type": "code",
   "execution_count": null,
   "metadata": {},
   "outputs": [],
   "source": [
    "def generateProbabilityList(G : nx.Graph):\n",
    "    probList = []\n",
    "    for node in G.nodes:\n",
    "        for _ in range(0, G.degree[node]):\n",
    "            probList.append(node)\n",
    "    return probList\n",
    "\n",
    "# n wanted nodes, m edges for new n\n",
    "def BAModel(G : nx.Graph, n, m):\n",
    "    probList = generateProbabilityList(G)\n",
    "    while len(G.nodes) < n:\n",
    "        currentNode = len(G.nodes)\n",
    "        G.add_node(currentNode) # Add new node with index of len G.nodes\n",
    "        for i in range(0,m):\n",
    "            # Need to add check for same edges or multiple edges\n",
    "            rIndex = random.randint(0,len(probList))\n",
    "            G.add_edge(currentNode, probList[rIndex])\n"
   ]
  }
 ],
 "metadata": {
  "kernelspec": {
   "display_name": "base",
   "language": "python",
   "name": "python3"
  },
  "language_info": {
   "codemirror_mode": {
    "name": "ipython",
    "version": 3
   },
   "file_extension": ".py",
   "mimetype": "text/x-python",
   "name": "python",
   "nbconvert_exporter": "python",
   "pygments_lexer": "ipython3",
   "version": "3.10.9"
  }
 },
 "nbformat": 4,
 "nbformat_minor": 2
}
