{
 "cells": [
  {
   "cell_type": "code",
   "execution_count": 50,
   "id": "7299bd7b-abc7-460f-b4df-4b70e7d27853",
   "metadata": {
    "tags": []
   },
   "outputs": [],
   "source": [
    "import pandas as pd\n",
    "import seaborn as sns"
   ]
  },
  {
   "cell_type": "code",
   "execution_count": 12,
   "id": "6ba192bb-7c51-4856-b3dc-7af7c3a5569b",
   "metadata": {
    "tags": []
   },
   "outputs": [],
   "source": [
    "df = pd.read_csv(\"C:\\\\Users\\\\Michal\\\\Documents\\\\PythonScripts\\\\MAS\\\\KarateClub.csv\", sep=';')"
   ]
  },
  {
   "cell_type": "code",
   "execution_count": 13,
   "id": "a7241685-196f-41b7-8a66-ae31c8a089e0",
   "metadata": {
    "tags": []
   },
   "outputs": [
    {
     "data": {
      "text/html": [
       "<div>\n",
       "<style scoped>\n",
       "    .dataframe tbody tr th:only-of-type {\n",
       "        vertical-align: middle;\n",
       "    }\n",
       "\n",
       "    .dataframe tbody tr th {\n",
       "        vertical-align: top;\n",
       "    }\n",
       "\n",
       "    .dataframe thead th {\n",
       "        text-align: right;\n",
       "    }\n",
       "</style>\n",
       "<table border=\"1\" class=\"dataframe\">\n",
       "  <thead>\n",
       "    <tr style=\"text-align: right;\">\n",
       "      <th></th>\n",
       "      <th>F</th>\n",
       "      <th>T</th>\n",
       "    </tr>\n",
       "  </thead>\n",
       "  <tbody>\n",
       "    <tr>\n",
       "      <th>0</th>\n",
       "      <td>2</td>\n",
       "      <td>1</td>\n",
       "    </tr>\n",
       "    <tr>\n",
       "      <th>1</th>\n",
       "      <td>3</td>\n",
       "      <td>1</td>\n",
       "    </tr>\n",
       "    <tr>\n",
       "      <th>2</th>\n",
       "      <td>3</td>\n",
       "      <td>2</td>\n",
       "    </tr>\n",
       "    <tr>\n",
       "      <th>3</th>\n",
       "      <td>4</td>\n",
       "      <td>1</td>\n",
       "    </tr>\n",
       "    <tr>\n",
       "      <th>4</th>\n",
       "      <td>4</td>\n",
       "      <td>2</td>\n",
       "    </tr>\n",
       "    <tr>\n",
       "      <th>...</th>\n",
       "      <td>...</td>\n",
       "      <td>...</td>\n",
       "    </tr>\n",
       "    <tr>\n",
       "      <th>73</th>\n",
       "      <td>34</td>\n",
       "      <td>29</td>\n",
       "    </tr>\n",
       "    <tr>\n",
       "      <th>74</th>\n",
       "      <td>34</td>\n",
       "      <td>30</td>\n",
       "    </tr>\n",
       "    <tr>\n",
       "      <th>75</th>\n",
       "      <td>34</td>\n",
       "      <td>31</td>\n",
       "    </tr>\n",
       "    <tr>\n",
       "      <th>76</th>\n",
       "      <td>34</td>\n",
       "      <td>32</td>\n",
       "    </tr>\n",
       "    <tr>\n",
       "      <th>77</th>\n",
       "      <td>34</td>\n",
       "      <td>33</td>\n",
       "    </tr>\n",
       "  </tbody>\n",
       "</table>\n",
       "<p>78 rows × 2 columns</p>\n",
       "</div>"
      ],
      "text/plain": [
       "     F   T\n",
       "0    2   1\n",
       "1    3   1\n",
       "2    3   2\n",
       "3    4   1\n",
       "4    4   2\n",
       "..  ..  ..\n",
       "73  34  29\n",
       "74  34  30\n",
       "75  34  31\n",
       "76  34  32\n",
       "77  34  33\n",
       "\n",
       "[78 rows x 2 columns]"
      ]
     },
     "execution_count": 13,
     "metadata": {},
     "output_type": "execute_result"
    }
   ],
   "source": [
    "df"
   ]
  },
  {
   "cell_type": "code",
   "execution_count": 65,
   "id": "72d156fb-6c3d-4d8a-a0ef-046707e3312f",
   "metadata": {
    "tags": []
   },
   "outputs": [
    {
     "name": "stdout",
     "output_type": "stream",
     "text": [
      "1\n",
      "2\n",
      "3\n",
      "4\n",
      "5\n",
      "6\n",
      "7\n",
      "8\n",
      "9\n",
      "10\n",
      "11\n",
      "12\n",
      "13\n",
      "14\n",
      "15\n",
      "16\n",
      "17\n",
      "18\n",
      "19\n",
      "20\n",
      "21\n",
      "22\n",
      "23\n",
      "24\n",
      "25\n",
      "26\n",
      "27\n",
      "28\n",
      "29\n",
      "30\n",
      "31\n",
      "32\n",
      "33\n"
     ]
    }
   ],
   "source": []
  },
  {
   "cell_type": "code",
   "execution_count": 2,
   "id": "6e537fa9-ad93-422e-ad2c-193fc4c56703",
   "metadata": {
    "tags": []
   },
   "outputs": [],
   "source": [
    "def getAdjacencyMatrix(df):\n",
    "    adjacencyMatrix = []\n",
    "    for i in range(0,34):\n",
    "        adjacencyMatrix.append([])\n",
    "        for j in range(0,34):\n",
    "            adjacencyMatrix[i].append(0)\n",
    "    for i in range(0,len(adjacencyMatrix)):\n",
    "        for j in range(0, len(adjacencyMatrix[i])):\n",
    "            for n in df.iterrows():\n",
    "                if n[1][0] == i + 1 or n[1][1] == i + 1:\n",
    "                    if n[1][0] == j + 1 or n[1][1] == j + 1:\n",
    "                        adjacencyMatrix[i][j] = 1\n",
    "    return adjacencyMatrix"
   ]
  },
  {
   "cell_type": "code",
   "execution_count": 4,
   "id": "c5373151-361e-4dbd-b82d-8f390dccdb1f",
   "metadata": {
    "tags": []
   },
   "outputs": [],
   "source": [
    "def printAdjacencyMatrix(adjacencyMatrix):\n",
    "    for i in range(0,len(adjacencyMatrix)):\n",
    "        print(adjacencyMatrix[i])"
   ]
  },
  {
   "cell_type": "code",
   "execution_count": 5,
   "id": "670b3dc3-4ed3-4753-bcff-e94e69bbddea",
   "metadata": {
    "tags": []
   },
   "outputs": [],
   "source": [
    "def getAdjacencyList(adjacencyMatrix):\n",
    "    adjacencyList = {}\n",
    "    for i in range(0,len(adjacencyMatrix)):\n",
    "        adjacencyList[i + 1] = []\n",
    "        for j in range(0, len(adjacencyMatrix[i])):\n",
    "            if adjacencyMatrix[i][j] == 1 and i != j:\n",
    "                adjacencyList[i + 1].append(j + 1)\n",
    "    return adjacencyList"
   ]
  },
  {
   "cell_type": "code",
   "execution_count": 88,
   "id": "acca0b0c-8d60-4df4-8940-073dac2d8009",
   "metadata": {
    "tags": []
   },
   "outputs": [
    {
     "data": {
      "text/plain": [
       "{1: [2, 3, 4, 5, 6, 7, 8, 9, 11, 12, 13, 14, 18, 20, 22, 32],\n",
       " 2: [1, 3, 4, 8, 14, 18, 20, 22, 31],\n",
       " 3: [1, 2, 4, 8, 9, 10, 14, 28, 29, 33],\n",
       " 4: [1, 2, 3, 8, 13, 14],\n",
       " 5: [1, 7, 11],\n",
       " 6: [1, 7, 11, 17],\n",
       " 7: [1, 5, 6, 17],\n",
       " 8: [1, 2, 3, 4],\n",
       " 9: [1, 3, 31, 33, 34],\n",
       " 10: [3, 34],\n",
       " 11: [1, 5, 6],\n",
       " 12: [1],\n",
       " 13: [1, 4],\n",
       " 14: [1, 2, 3, 4, 34],\n",
       " 15: [33, 34],\n",
       " 16: [33, 34],\n",
       " 17: [6, 7],\n",
       " 18: [1, 2],\n",
       " 19: [33, 34],\n",
       " 20: [1, 2, 34],\n",
       " 21: [33, 34],\n",
       " 22: [1, 2],\n",
       " 23: [33, 34],\n",
       " 24: [26, 28, 30, 33, 34],\n",
       " 25: [26, 28, 32],\n",
       " 26: [24, 25, 32],\n",
       " 27: [30, 34],\n",
       " 28: [3, 24, 25, 34],\n",
       " 29: [3, 32, 34],\n",
       " 30: [24, 27, 33, 34],\n",
       " 31: [2, 9, 33, 34],\n",
       " 32: [1, 25, 26, 29, 33, 34],\n",
       " 33: [3, 9, 15, 16, 19, 21, 23, 24, 30, 31, 32, 34],\n",
       " 34: [9, 10, 14, 15, 16, 19, 20, 21, 23, 24, 27, 28, 29, 30, 31, 32, 33]}"
      ]
     },
     "execution_count": 88,
     "metadata": {},
     "output_type": "execute_result"
    }
   ],
   "source": [
    "adjacencyList"
   ]
  },
  {
   "cell_type": "code",
   "execution_count": 89,
   "id": "a4ddaccb-d385-4acb-becf-6328bb5c86bd",
   "metadata": {
    "tags": []
   },
   "outputs": [
    {
     "data": {
      "text/plain": [
       "16"
      ]
     },
     "execution_count": 89,
     "metadata": {},
     "output_type": "execute_result"
    }
   ],
   "source": [
    "len(adjacencyList[1])"
   ]
  },
  {
   "cell_type": "code",
   "execution_count": 115,
   "id": "1d58af80-8752-4708-95d2-6bfa9ec287d1",
   "metadata": {
    "tags": []
   },
   "outputs": [],
   "source": [
    "def getMin(adjacencyList):\n",
    "    result = 999\n",
    "    for key in adjacencyList.keys():\n",
    "        if(len(adjacencyList[key]) < result):\n",
    "            result = len(adjacencyList[key])\n",
    "    return result\n",
    "\n",
    "def getMax(adjacencyList):\n",
    "    result = -1\n",
    "    for key in adjacencyList.keys():\n",
    "        if(len(adjacencyList[key]) > result):\n",
    "            result = len(adjacencyList[key])\n",
    "    return result\n",
    "\n",
    "def getAvg(adjacencyList):\n",
    "    result = 0\n",
    "    totalSum = 0\n",
    "    for key in adjacencyList.keys():\n",
    "        totalSum += len(adjacencyList[key])\n",
    "    return totalSum/len(adjacencyList.keys())\n",
    "\n",
    "def getFrequency(adjacencyList):\n",
    "    vFrequency = {}\n",
    "    min = getMin(adjacencyList)\n",
    "    max = getMax(adjacencyList)\n",
    "    for i in range(min, max + 1):\n",
    "        vFrequency[i] = 0\n",
    "    for key in adjacencyList.keys():\n",
    "        if len(adjacencyList[key]) not in vFrequency.keys():\n",
    "            vFrequency[len(adjacencyList[key])] = 0\n",
    "        vFrequency[len(adjacencyList[key])] += 1\n",
    "    return vFrequency\n",
    "\n",
    "\n",
    "def getRelativeFrequency(adjacencyList):\n",
    "    vFrequency = {}\n",
    "    for key in adjacencyList.keys():\n",
    "        if len(adjacencyList[key]) not in vFrequency.keys():\n",
    "            vFrequency[len(adjacencyList[key])] = 0\n",
    "        vFrequency[len(adjacencyList[key])] += 1\n",
    "    for key in vFrequency.keys():\n",
    "        vFrequency[key] = float(vFrequency[key]/34)\n",
    "    return vFrequency"
   ]
  },
  {
   "cell_type": "code",
   "execution_count": 116,
   "id": "9c00466c-b1d1-46ba-8185-ec100b854b22",
   "metadata": {
    "tags": []
   },
   "outputs": [
    {
     "name": "stdout",
     "output_type": "stream",
     "text": [
      "Min: 1\n",
      "Max: 17\n",
      "Avg: 4.588235294117647\n",
      "Četnost: {1: 1, 2: 11, 3: 6, 4: 6, 5: 3, 6: 2, 7: 0, 8: 0, 9: 1, 10: 1, 11: 0, 12: 1, 13: 0, 14: 0, 15: 0, 16: 1, 17: 1}\n",
      "Relativní četnost: {16: 0.029411764705882353, 9: 0.029411764705882353, 10: 0.029411764705882353, 6: 0.058823529411764705, 3: 0.17647058823529413, 4: 0.17647058823529413, 5: 0.08823529411764706, 2: 0.3235294117647059, 1: 0.029411764705882353, 12: 0.029411764705882353, 17: 0.029411764705882353}\n"
     ]
    }
   ],
   "source": [
    "print(\"Min: \" + str(getMin(adjacencyList)))\n",
    "print(\"Max: \" + str(getMax(adjacencyList)))\n",
    "print(\"Avg: \" + str(getAvg(adjacencyList)))\n",
    "print(\"Četnost: \" + str(getFrequency(adjacencyList)))\n",
    "print(\"Relativní četnost: \" + str(getRelativeFrequency(adjacencyList)))"
   ]
  },
  {
   "cell_type": "code",
   "execution_count": 117,
   "id": "7e032a1b-0e6d-4dcf-9204-4ccf99137aa5",
   "metadata": {
    "tags": []
   },
   "outputs": [
    {
     "data": {
      "text/plain": [
       "<Axes: >"
      ]
     },
     "execution_count": 117,
     "metadata": {},
     "output_type": "execute_result"
    },
    {
     "data": {
      "image/png": "[encoded data removed]",
      "text/plain": [
       "<Figure size 640x480 with 1 Axes>"
      ]
     },
     "metadata": {},
     "output_type": "display_data"
    }
   ],
   "source": [
    "frequency = getFrequency(adjacencyList)\n",
    "keys = list(frequency.keys())\n",
    "vals = list(frequency.values())\n",
    "sns.barplot(x=keys, y=vals)"
   ]
  },
  {
   "cell_type": "code",
   "execution_count": null,
   "id": "14dcd42b-1b8f-40e4-8840-e212b9cf6ca5",
   "metadata": {},
   "outputs": [],
   "source": []
  }
 ],
 "metadata": {
  "kernelspec": {
   "display_name": "Python 3 (ipykernel)",
   "language": "python",
   "name": "python3"
  },
  "language_info": {
   "codemirror_mode": {
    "name": "ipython",
    "version": 3
   },
   "file_extension": ".py",
   "mimetype": "text/x-python",
   "name": "python",
   "nbconvert_exporter": "python",
   "pygments_lexer": "ipython3",
   "version": "3.10.9"
  }
 },
 "nbformat": 4,
 "nbformat_minor": 5
}
