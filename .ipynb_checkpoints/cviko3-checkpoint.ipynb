{
 "cells": [
  {
   "cell_type": "code",
   "execution_count": 22,
   "id": "d98cc312-048b-486b-b565-3733e05ad711",
   "metadata": {
    "tags": []
   },
   "outputs": [],
   "source": [
    "import pandas as pd\n",
    "import seaborn as sns\n",
    "import networkx as nx\n",
    "import numpy as np\n",
    "import re\n",
    "import matplotlib.pyplot as plt"
   ]
  },
  {
   "cell_type": "code",
   "execution_count": 2,
   "id": "a413c22f-6003-4291-8254-f75073124327",
   "metadata": {
    "tags": []
   },
   "outputs": [],
   "source": [
    "#E:\\Python Scripts\\MAS\n",
    "#C:\\\\Users\\\\msi pc\\\\Documents\\\\PythonProjects\\\\MAS\\\\KarateClub.csv\n",
    "df = pd.read_csv(\"E:\\\\Python Scripts\\\\MAS\\\\KarateClub.csv\", sep=';')"
   ]
  },
  {
   "cell_type": "code",
   "execution_count": 3,
   "id": "a2260c8f-dbcb-4a63-a936-a4f935a8ea1a",
   "metadata": {
    "tags": []
   },
   "outputs": [
    {
     "data": {
      "text/html": [
       "<div>\n",
       "<style scoped>\n",
       "    .dataframe tbody tr th:only-of-type {\n",
       "        vertical-align: middle;\n",
       "    }\n",
       "\n",
       "    .dataframe tbody tr th {\n",
       "        vertical-align: top;\n",
       "    }\n",
       "\n",
       "    .dataframe thead th {\n",
       "        text-align: right;\n",
       "    }\n",
       "</style>\n",
       "<table border=\"1\" class=\"dataframe\">\n",
       "  <thead>\n",
       "    <tr style=\"text-align: right;\">\n",
       "      <th></th>\n",
       "      <th>F</th>\n",
       "      <th>T</th>\n",
       "    </tr>\n",
       "  </thead>\n",
       "  <tbody>\n",
       "    <tr>\n",
       "      <th>0</th>\n",
       "      <td>2</td>\n",
       "      <td>1</td>\n",
       "    </tr>\n",
       "    <tr>\n",
       "      <th>1</th>\n",
       "      <td>3</td>\n",
       "      <td>1</td>\n",
       "    </tr>\n",
       "    <tr>\n",
       "      <th>2</th>\n",
       "      <td>3</td>\n",
       "      <td>2</td>\n",
       "    </tr>\n",
       "    <tr>\n",
       "      <th>3</th>\n",
       "      <td>4</td>\n",
       "      <td>1</td>\n",
       "    </tr>\n",
       "    <tr>\n",
       "      <th>4</th>\n",
       "      <td>4</td>\n",
       "      <td>2</td>\n",
       "    </tr>\n",
       "    <tr>\n",
       "      <th>...</th>\n",
       "      <td>...</td>\n",
       "      <td>...</td>\n",
       "    </tr>\n",
       "    <tr>\n",
       "      <th>73</th>\n",
       "      <td>34</td>\n",
       "      <td>29</td>\n",
       "    </tr>\n",
       "    <tr>\n",
       "      <th>74</th>\n",
       "      <td>34</td>\n",
       "      <td>30</td>\n",
       "    </tr>\n",
       "    <tr>\n",
       "      <th>75</th>\n",
       "      <td>34</td>\n",
       "      <td>31</td>\n",
       "    </tr>\n",
       "    <tr>\n",
       "      <th>76</th>\n",
       "      <td>34</td>\n",
       "      <td>32</td>\n",
       "    </tr>\n",
       "    <tr>\n",
       "      <th>77</th>\n",
       "      <td>34</td>\n",
       "      <td>33</td>\n",
       "    </tr>\n",
       "  </tbody>\n",
       "</table>\n",
       "<p>78 rows × 2 columns</p>\n",
       "</div>"
      ],
      "text/plain": [
       "     F   T\n",
       "0    2   1\n",
       "1    3   1\n",
       "2    3   2\n",
       "3    4   1\n",
       "4    4   2\n",
       "..  ..  ..\n",
       "73  34  29\n",
       "74  34  30\n",
       "75  34  31\n",
       "76  34  32\n",
       "77  34  33\n",
       "\n",
       "[78 rows x 2 columns]"
      ]
     },
     "execution_count": 3,
     "metadata": {},
     "output_type": "execute_result"
    }
   ],
   "source": [
    "df"
   ]
  },
  {
   "cell_type": "code",
   "execution_count": 4,
   "id": "f33ef4dc-64d8-4710-98d1-5df10a43df23",
   "metadata": {
    "tags": []
   },
   "outputs": [],
   "source": [
    "def createGraphFromCSV(path, sep):\n",
    "    listOfConnections = []\n",
    "    with open(path, \"r\") as file:\n",
    "        lines = file.readlines()\n",
    "    for line in lines:\n",
    "        regexString = \"(\\d*)\"+sep+\"(\\d*)\"\n",
    "        match = re.match(regexString, line)\n",
    "        if match is not None: \n",
    "            connection = (match.group(1),match.group(2))\n",
    "            listOfConnections.append(connection)\n",
    "        else:\n",
    "            continue\n",
    "    return listOfConnections"
   ]
  },
  {
   "cell_type": "code",
   "execution_count": 5,
   "id": "67c13d05-af61-4167-9fc7-31ce43f64603",
   "metadata": {
    "tags": []
   },
   "outputs": [],
   "source": [
    "listOfConnections = createGraphFromCSV(\"E:\\\\Python Scripts\\\\MAS\\\\KarateClub.csv\", sep=';')"
   ]
  },
  {
   "cell_type": "code",
   "execution_count": 6,
   "id": "a08d6e84-b8fa-4ca2-ac0e-a0a20a86d84e",
   "metadata": {
    "tags": []
   },
   "outputs": [],
   "source": [
    "G = nx.Graph()\n",
    "G.add_edges_from(listOfConnections)"
   ]
  },
  {
   "cell_type": "code",
   "execution_count": 15,
   "id": "d7d5ba0c-a3dd-4301-b421-75fab63a7f9f",
   "metadata": {
    "tags": []
   },
   "outputs": [],
   "source": [
    "clustering_coeffs = nx.clustering(G)"
   ]
  },
  {
   "cell_type": "code",
   "execution_count": 41,
   "id": "6379e837-f88d-423c-aa8a-617a08f977e2",
   "metadata": {
    "tags": []
   },
   "outputs": [
    {
     "data": {
      "text/plain": [
       "{'2': 0.3333333333333333,\n",
       " '1': 0.15,\n",
       " '3': 0.24444444444444444,\n",
       " '4': 0.6666666666666666,\n",
       " '5': 0.6666666666666666,\n",
       " '6': 0.5,\n",
       " '7': 0.5,\n",
       " '8': 1.0,\n",
       " '9': 0.5,\n",
       " '10': 0,\n",
       " '11': 0.6666666666666666,\n",
       " '12': 0,\n",
       " '13': 1.0,\n",
       " '14': 0.6,\n",
       " '17': 1.0,\n",
       " '18': 1.0,\n",
       " '20': 0.3333333333333333,\n",
       " '22': 1.0,\n",
       " '26': 0.3333333333333333,\n",
       " '24': 0.4,\n",
       " '25': 0.3333333333333333,\n",
       " '28': 0.16666666666666666,\n",
       " '29': 0.3333333333333333,\n",
       " '30': 0.6666666666666666,\n",
       " '27': 1.0,\n",
       " '31': 0.5,\n",
       " '32': 0.2,\n",
       " '33': 0.19696969696969696,\n",
       " '15': 1.0,\n",
       " '16': 1.0,\n",
       " '19': 1.0,\n",
       " '21': 1.0,\n",
       " '23': 1.0,\n",
       " '34': 0.11029411764705882}"
      ]
     },
     "execution_count": 41,
     "metadata": {},
     "output_type": "execute_result"
    }
   ],
   "source": [
    "clustering_coeffs"
   ]
  },
  {
   "cell_type": "code",
   "execution_count": 35,
   "id": "954d011c-893a-4059-a92c-4731f9b09ba8",
   "metadata": {
    "tags": []
   },
   "outputs": [],
   "source": [
    "averageCC = nx.average_clustering(G)"
   ]
  },
  {
   "cell_type": "code",
   "execution_count": 36,
   "id": "cab8b8f3-8b67-4bc9-8de4-ad49f7ed294d",
   "metadata": {
    "tags": []
   },
   "outputs": [
    {
     "data": {
      "text/plain": [
       "0.5706384782076824"
      ]
     },
     "execution_count": 36,
     "metadata": {},
     "output_type": "execute_result"
    }
   ],
   "source": [
    "averageCC"
   ]
  },
  {
   "cell_type": "code",
   "execution_count": 37,
   "id": "b1c1b517-fadd-4484-b0fa-e59dec602c76",
   "metadata": {
    "tags": []
   },
   "outputs": [],
   "source": [
    "degrees = dict(G.degree())"
   ]
  },
  {
   "cell_type": "code",
   "execution_count": 38,
   "id": "51d2e49e-97e9-49b9-b31a-07bc5843fd0c",
   "metadata": {
    "tags": []
   },
   "outputs": [
    {
     "data": {
      "image/png": "[encoded data removed]",
      "text/plain": [
       "<Figure size 1000x600 with 1 Axes>"
      ]
     },
     "metadata": {},
     "output_type": "display_data"
    }
   ],
   "source": [
    "degree_clustering = {}\n",
    "for node, degree in degrees.items():\n",
    "    if degree not in degree_clustering:\n",
    "        degree_clustering[degree] = []\n",
    "    degree_clustering[degree].append(clustering_coeffs[node])\n",
    "\n",
    "# Výpočet průměrného clustering coefficientu pro každý stupeň\n",
    "avg_clustering_by_degree = {degree: np.mean(clustering) for degree, clustering in degree_clustering.items()}\n",
    "\n",
    "# Vykreslení závislosti průměrného clustering coefficient na stupni\n",
    "degrees = list(avg_clustering_by_degree.keys())\n",
    "avg_clustering = list(avg_clustering_by_degree.values())\n",
    "\n",
    "plt.figure(figsize=(10,6))\n",
    "plt.scatter(degrees, avg_clustering, color='b', s=50)\n",
    "plt.xlabel('Stupeň vrcholu', fontsize=14)\n",
    "plt.ylabel('Průměrný shlukovací koeficient', fontsize=14)\n",
    "plt.title('Závislost průměrného shlukovacího koeficientu na stupni vrcholu', fontsize=16)\n",
    "plt.grid(True)\n",
    "plt.show()"
   ]
  },
  {
   "cell_type": "code",
   "execution_count": 42,
   "id": "c4b9bd62-f75c-49cc-b07d-6e0551ce464e",
   "metadata": {
    "tags": []
   },
   "outputs": [],
   "source": [
    "degrees = dict(G.degree())"
   ]
  },
  {
   "cell_type": "code",
   "execution_count": 56,
   "id": "4fa8dcec-be59-4b21-8998-a4661e814f30",
   "metadata": {
    "tags": []
   },
   "outputs": [
    {
     "data": {
      "text/plain": [
       "{9: [0.3333333333333333],\n",
       " 16: [0.15],\n",
       " 10: [0.24444444444444444],\n",
       " 6: [0.6666666666666666, 0.2],\n",
       " 3: [0.6666666666666666,\n",
       "  0.6666666666666666,\n",
       "  0.3333333333333333,\n",
       "  0.3333333333333333,\n",
       "  0.3333333333333333,\n",
       "  0.3333333333333333],\n",
       " 4: [0.5, 0.5, 1.0, 0.16666666666666666, 0.6666666666666666, 0.5],\n",
       " 5: [0.5, 0.6, 0.4],\n",
       " 2: [0, 1.0, 1.0, 1.0, 1.0, 1.0, 1.0, 1.0, 1.0, 1.0, 1.0],\n",
       " 1: [0],\n",
       " 12: [0.19696969696969696],\n",
       " 17: [0.11029411764705882]}"
      ]
     },
     "execution_count": 56,
     "metadata": {},
     "output_type": "execute_result"
    }
   ],
   "source": [
    "degree_clustering"
   ]
  },
  {
   "cell_type": "code",
   "execution_count": 44,
   "id": "fbb6f033-0873-4bb1-97e5-cef0d874ab64",
   "metadata": {
    "tags": []
   },
   "outputs": [
    {
     "data": {
      "text/plain": [
       "{9: 0.3333333333333333,\n",
       " 16: 0.15,\n",
       " 10: 0.24444444444444444,\n",
       " 6: 0.43333333333333335,\n",
       " 3: 0.4444444444444444,\n",
       " 4: 0.5555555555555555,\n",
       " 5: 0.5,\n",
       " 2: 0.9090909090909091,\n",
       " 1: 0.0,\n",
       " 12: 0.19696969696969696,\n",
       " 17: 0.11029411764705882}"
      ]
     },
     "execution_count": 44,
     "metadata": {},
     "output_type": "execute_result"
    }
   ],
   "source": [
    "avg_clustering_by_degree"
   ]
  },
  {
   "cell_type": "code",
   "execution_count": 50,
   "id": "dbc57860-bf1c-429c-ac3d-1ca8c74448e2",
   "metadata": {
    "tags": []
   },
   "outputs": [],
   "source": [
    "closeness = {1: 0.5862068965517241,\n",
    " 2: 0.5,\n",
    " 3: 0.576271186440678,\n",
    " 4: 0.4788732394366197,\n",
    " 5: 0.39080459770114945,\n",
    " 6: 0.3953488372093023,\n",
    " 7: 0.3953488372093023,\n",
    " 8: 0.4533333333333333,\n",
    " 9: 0.53125,\n",
    " 10: 0.4473684210526316,\n",
    " 11: 0.39080459770114945,\n",
    " 12: 0.37777777777777777,\n",
    " 13: 0.38202247191011235,\n",
    " 14: 0.53125,\n",
    " 15: 0.38202247191011235,\n",
    " 16: 0.38202247191011235,\n",
    " 17: 0.29310344827586204,\n",
    " 18: 0.38636363636363635,\n",
    " 19: 0.38202247191011235,\n",
    " 20: 0.5151515151515151,\n",
    " 21: 0.38202247191011235,\n",
    " 22: 0.38636363636363635,\n",
    " 23: 0.38202247191011235,\n",
    " 24: 0.40476190476190477,\n",
    " 25: 0.38636363636363635,\n",
    " 26: 0.38636363636363635,\n",
    " 27: 0.37362637362637363,\n",
    " 28: 0.4722222222222222,\n",
    " 29: 0.4657534246575342,\n",
    " 30: 0.3953488372093023,\n",
    " 31: 0.4722222222222222,\n",
    " 32: 0.5573770491803278,\n",
    " 33: 0.53125,\n",
    " 34: 0.5666666666666667}"
   ]
  },
  {
   "cell_type": "code",
   "execution_count": 51,
   "id": "3c5d8b7e-4362-4823-bb10-99dd0aef9730",
   "metadata": {
    "tags": []
   },
   "outputs": [
    {
     "data": {
      "text/plain": [
       "{1: 0.5862068965517241,\n",
       " 2: 0.5,\n",
       " 3: 0.576271186440678,\n",
       " 4: 0.4788732394366197,\n",
       " 5: 0.39080459770114945,\n",
       " 6: 0.3953488372093023,\n",
       " 7: 0.3953488372093023,\n",
       " 8: 0.4533333333333333,\n",
       " 9: 0.53125,\n",
       " 10: 0.4473684210526316,\n",
       " 11: 0.39080459770114945,\n",
       " 12: 0.37777777777777777,\n",
       " 13: 0.38202247191011235,\n",
       " 14: 0.53125,\n",
       " 15: 0.38202247191011235,\n",
       " 16: 0.38202247191011235,\n",
       " 17: 0.29310344827586204,\n",
       " 18: 0.38636363636363635,\n",
       " 19: 0.38202247191011235,\n",
       " 20: 0.5151515151515151,\n",
       " 21: 0.38202247191011235,\n",
       " 22: 0.38636363636363635,\n",
       " 23: 0.38202247191011235,\n",
       " 24: 0.40476190476190477,\n",
       " 25: 0.38636363636363635,\n",
       " 26: 0.38636363636363635,\n",
       " 27: 0.37362637362637363,\n",
       " 28: 0.4722222222222222,\n",
       " 29: 0.4657534246575342,\n",
       " 30: 0.3953488372093023,\n",
       " 31: 0.4722222222222222,\n",
       " 32: 0.5573770491803278,\n",
       " 33: 0.53125,\n",
       " 34: 0.5666666666666667}"
      ]
     },
     "execution_count": 51,
     "metadata": {},
     "output_type": "execute_result"
    }
   ],
   "source": [
    "closeness"
   ]
  },
  {
   "cell_type": "code",
   "execution_count": 52,
   "id": "748aef4a-c719-4b47-8ebf-0c083b3664a2",
   "metadata": {
    "tags": []
   },
   "outputs": [],
   "source": [
    "dfFormat = {\"id\": degrees.keys(), \"degree\": degrees.values(), \"Closeness centrality\": closeness.values(), \"Clustering coefficient\": clustering_coeffs.values()}\n",
    "    "
   ]
  },
  {
   "cell_type": "code",
   "execution_count": 53,
   "id": "3f24a318-7673-4d1f-8075-7469868d2d9b",
   "metadata": {
    "tags": []
   },
   "outputs": [],
   "source": [
    "toCsvDF = pd.DataFrame(dfFormat)"
   ]
  },
  {
   "cell_type": "code",
   "execution_count": 54,
   "id": "55bb7461-8788-4c3d-b092-73f006f4b4e0",
   "metadata": {
    "tags": []
   },
   "outputs": [
    {
     "data": {
      "text/html": [
       "<div>\n",
       "<style scoped>\n",
       "    .dataframe tbody tr th:only-of-type {\n",
       "        vertical-align: middle;\n",
       "    }\n",
       "\n",
       "    .dataframe tbody tr th {\n",
       "        vertical-align: top;\n",
       "    }\n",
       "\n",
       "    .dataframe thead th {\n",
       "        text-align: right;\n",
       "    }\n",
       "</style>\n",
       "<table border=\"1\" class=\"dataframe\">\n",
       "  <thead>\n",
       "    <tr style=\"text-align: right;\">\n",
       "      <th></th>\n",
       "      <th>id</th>\n",
       "      <th>degree</th>\n",
       "      <th>Closeness centrality</th>\n",
       "      <th>Clustering coefficient</th>\n",
       "    </tr>\n",
       "  </thead>\n",
       "  <tbody>\n",
       "    <tr>\n",
       "      <th>0</th>\n",
       "      <td>2</td>\n",
       "      <td>9</td>\n",
       "      <td>0.586207</td>\n",
       "      <td>0.333333</td>\n",
       "    </tr>\n",
       "    <tr>\n",
       "      <th>1</th>\n",
       "      <td>1</td>\n",
       "      <td>16</td>\n",
       "      <td>0.500000</td>\n",
       "      <td>0.150000</td>\n",
       "    </tr>\n",
       "    <tr>\n",
       "      <th>2</th>\n",
       "      <td>3</td>\n",
       "      <td>10</td>\n",
       "      <td>0.576271</td>\n",
       "      <td>0.244444</td>\n",
       "    </tr>\n",
       "    <tr>\n",
       "      <th>3</th>\n",
       "      <td>4</td>\n",
       "      <td>6</td>\n",
       "      <td>0.478873</td>\n",
       "      <td>0.666667</td>\n",
       "    </tr>\n",
       "    <tr>\n",
       "      <th>4</th>\n",
       "      <td>5</td>\n",
       "      <td>3</td>\n",
       "      <td>0.390805</td>\n",
       "      <td>0.666667</td>\n",
       "    </tr>\n",
       "    <tr>\n",
       "      <th>5</th>\n",
       "      <td>6</td>\n",
       "      <td>4</td>\n",
       "      <td>0.395349</td>\n",
       "      <td>0.500000</td>\n",
       "    </tr>\n",
       "    <tr>\n",
       "      <th>6</th>\n",
       "      <td>7</td>\n",
       "      <td>4</td>\n",
       "      <td>0.395349</td>\n",
       "      <td>0.500000</td>\n",
       "    </tr>\n",
       "    <tr>\n",
       "      <th>7</th>\n",
       "      <td>8</td>\n",
       "      <td>4</td>\n",
       "      <td>0.453333</td>\n",
       "      <td>1.000000</td>\n",
       "    </tr>\n",
       "    <tr>\n",
       "      <th>8</th>\n",
       "      <td>9</td>\n",
       "      <td>5</td>\n",
       "      <td>0.531250</td>\n",
       "      <td>0.500000</td>\n",
       "    </tr>\n",
       "    <tr>\n",
       "      <th>9</th>\n",
       "      <td>10</td>\n",
       "      <td>2</td>\n",
       "      <td>0.447368</td>\n",
       "      <td>0.000000</td>\n",
       "    </tr>\n",
       "    <tr>\n",
       "      <th>10</th>\n",
       "      <td>11</td>\n",
       "      <td>3</td>\n",
       "      <td>0.390805</td>\n",
       "      <td>0.666667</td>\n",
       "    </tr>\n",
       "    <tr>\n",
       "      <th>11</th>\n",
       "      <td>12</td>\n",
       "      <td>1</td>\n",
       "      <td>0.377778</td>\n",
       "      <td>0.000000</td>\n",
       "    </tr>\n",
       "    <tr>\n",
       "      <th>12</th>\n",
       "      <td>13</td>\n",
       "      <td>2</td>\n",
       "      <td>0.382022</td>\n",
       "      <td>1.000000</td>\n",
       "    </tr>\n",
       "    <tr>\n",
       "      <th>13</th>\n",
       "      <td>14</td>\n",
       "      <td>5</td>\n",
       "      <td>0.531250</td>\n",
       "      <td>0.600000</td>\n",
       "    </tr>\n",
       "    <tr>\n",
       "      <th>14</th>\n",
       "      <td>17</td>\n",
       "      <td>2</td>\n",
       "      <td>0.382022</td>\n",
       "      <td>1.000000</td>\n",
       "    </tr>\n",
       "    <tr>\n",
       "      <th>15</th>\n",
       "      <td>18</td>\n",
       "      <td>2</td>\n",
       "      <td>0.382022</td>\n",
       "      <td>1.000000</td>\n",
       "    </tr>\n",
       "    <tr>\n",
       "      <th>16</th>\n",
       "      <td>20</td>\n",
       "      <td>3</td>\n",
       "      <td>0.293103</td>\n",
       "      <td>0.333333</td>\n",
       "    </tr>\n",
       "    <tr>\n",
       "      <th>17</th>\n",
       "      <td>22</td>\n",
       "      <td>2</td>\n",
       "      <td>0.386364</td>\n",
       "      <td>1.000000</td>\n",
       "    </tr>\n",
       "    <tr>\n",
       "      <th>18</th>\n",
       "      <td>26</td>\n",
       "      <td>3</td>\n",
       "      <td>0.382022</td>\n",
       "      <td>0.333333</td>\n",
       "    </tr>\n",
       "    <tr>\n",
       "      <th>19</th>\n",
       "      <td>24</td>\n",
       "      <td>5</td>\n",
       "      <td>0.515152</td>\n",
       "      <td>0.400000</td>\n",
       "    </tr>\n",
       "    <tr>\n",
       "      <th>20</th>\n",
       "      <td>25</td>\n",
       "      <td>3</td>\n",
       "      <td>0.382022</td>\n",
       "      <td>0.333333</td>\n",
       "    </tr>\n",
       "    <tr>\n",
       "      <th>21</th>\n",
       "      <td>28</td>\n",
       "      <td>4</td>\n",
       "      <td>0.386364</td>\n",
       "      <td>0.166667</td>\n",
       "    </tr>\n",
       "    <tr>\n",
       "      <th>22</th>\n",
       "      <td>29</td>\n",
       "      <td>3</td>\n",
       "      <td>0.382022</td>\n",
       "      <td>0.333333</td>\n",
       "    </tr>\n",
       "    <tr>\n",
       "      <th>23</th>\n",
       "      <td>30</td>\n",
       "      <td>4</td>\n",
       "      <td>0.404762</td>\n",
       "      <td>0.666667</td>\n",
       "    </tr>\n",
       "    <tr>\n",
       "      <th>24</th>\n",
       "      <td>27</td>\n",
       "      <td>2</td>\n",
       "      <td>0.386364</td>\n",
       "      <td>1.000000</td>\n",
       "    </tr>\n",
       "    <tr>\n",
       "      <th>25</th>\n",
       "      <td>31</td>\n",
       "      <td>4</td>\n",
       "      <td>0.386364</td>\n",
       "      <td>0.500000</td>\n",
       "    </tr>\n",
       "    <tr>\n",
       "      <th>26</th>\n",
       "      <td>32</td>\n",
       "      <td>6</td>\n",
       "      <td>0.373626</td>\n",
       "      <td>0.200000</td>\n",
       "    </tr>\n",
       "    <tr>\n",
       "      <th>27</th>\n",
       "      <td>33</td>\n",
       "      <td>12</td>\n",
       "      <td>0.472222</td>\n",
       "      <td>0.196970</td>\n",
       "    </tr>\n",
       "    <tr>\n",
       "      <th>28</th>\n",
       "      <td>15</td>\n",
       "      <td>2</td>\n",
       "      <td>0.465753</td>\n",
       "      <td>1.000000</td>\n",
       "    </tr>\n",
       "    <tr>\n",
       "      <th>29</th>\n",
       "      <td>16</td>\n",
       "      <td>2</td>\n",
       "      <td>0.395349</td>\n",
       "      <td>1.000000</td>\n",
       "    </tr>\n",
       "    <tr>\n",
       "      <th>30</th>\n",
       "      <td>19</td>\n",
       "      <td>2</td>\n",
       "      <td>0.472222</td>\n",
       "      <td>1.000000</td>\n",
       "    </tr>\n",
       "    <tr>\n",
       "      <th>31</th>\n",
       "      <td>21</td>\n",
       "      <td>2</td>\n",
       "      <td>0.557377</td>\n",
       "      <td>1.000000</td>\n",
       "    </tr>\n",
       "    <tr>\n",
       "      <th>32</th>\n",
       "      <td>23</td>\n",
       "      <td>2</td>\n",
       "      <td>0.531250</td>\n",
       "      <td>1.000000</td>\n",
       "    </tr>\n",
       "    <tr>\n",
       "      <th>33</th>\n",
       "      <td>34</td>\n",
       "      <td>17</td>\n",
       "      <td>0.566667</td>\n",
       "      <td>0.110294</td>\n",
       "    </tr>\n",
       "  </tbody>\n",
       "</table>\n",
       "</div>"
      ],
      "text/plain": [
       "    id  degree  Closeness centrality  Clustering coefficient\n",
       "0    2       9              0.586207                0.333333\n",
       "1    1      16              0.500000                0.150000\n",
       "2    3      10              0.576271                0.244444\n",
       "3    4       6              0.478873                0.666667\n",
       "4    5       3              0.390805                0.666667\n",
       "5    6       4              0.395349                0.500000\n",
       "6    7       4              0.395349                0.500000\n",
       "7    8       4              0.453333                1.000000\n",
       "8    9       5              0.531250                0.500000\n",
       "9   10       2              0.447368                0.000000\n",
       "10  11       3              0.390805                0.666667\n",
       "11  12       1              0.377778                0.000000\n",
       "12  13       2              0.382022                1.000000\n",
       "13  14       5              0.531250                0.600000\n",
       "14  17       2              0.382022                1.000000\n",
       "15  18       2              0.382022                1.000000\n",
       "16  20       3              0.293103                0.333333\n",
       "17  22       2              0.386364                1.000000\n",
       "18  26       3              0.382022                0.333333\n",
       "19  24       5              0.515152                0.400000\n",
       "20  25       3              0.382022                0.333333\n",
       "21  28       4              0.386364                0.166667\n",
       "22  29       3              0.382022                0.333333\n",
       "23  30       4              0.404762                0.666667\n",
       "24  27       2              0.386364                1.000000\n",
       "25  31       4              0.386364                0.500000\n",
       "26  32       6              0.373626                0.200000\n",
       "27  33      12              0.472222                0.196970\n",
       "28  15       2              0.465753                1.000000\n",
       "29  16       2              0.395349                1.000000\n",
       "30  19       2              0.472222                1.000000\n",
       "31  21       2              0.557377                1.000000\n",
       "32  23       2              0.531250                1.000000\n",
       "33  34      17              0.566667                0.110294"
      ]
     },
     "execution_count": 54,
     "metadata": {},
     "output_type": "execute_result"
    }
   ],
   "source": [
    "toCsvDF"
   ]
  },
  {
   "cell_type": "code",
   "execution_count": 55,
   "id": "e8adb529-4996-45be-92c8-01db2f2b000f",
   "metadata": {
    "tags": []
   },
   "outputs": [],
   "source": [
    "toCsvDF.to_csv(\"LocalProperties.csv\", index=False)"
   ]
  },
  {
   "cell_type": "code",
   "execution_count": null,
   "id": "492d2885-1253-46ef-89f1-1dee61353703",
   "metadata": {},
   "outputs": [],
   "source": []
  }
 ],
 "metadata": {
  "kernelspec": {
   "display_name": "Python 3 (ipykernel)",
   "language": "python",
   "name": "python3"
  },
  "language_info": {
   "codemirror_mode": {
    "name": "ipython",
    "version": 3
   },
   "file_extension": ".py",
   "mimetype": "text/x-python",
   "name": "python",
   "nbconvert_exporter": "python",
   "pygments_lexer": "ipython3",
   "version": "3.10.9"
  }
 },
 "nbformat": 4,
 "nbformat_minor": 5
}
